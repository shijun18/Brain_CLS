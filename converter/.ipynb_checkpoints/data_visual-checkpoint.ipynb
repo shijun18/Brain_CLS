{
 "cells": [
  {
   "cell_type": "code",
   "execution_count": 2,
   "metadata": {},
   "outputs": [],
   "source": [
    "%matplotlib inline\n",
    "import matplotlib.pyplot as plt\n",
    "from PIL import Image\n",
    "import os"
   ]
  },
  {
   "cell_type": "markdown",
   "metadata": {},
   "source": [
    "# size statistic"
   ]
  },
  {
   "cell_type": "code",
   "execution_count": 3,
   "metadata": {
    "scrolled": true
   },
   "outputs": [
    {
     "name": "stdout",
     "output_type": "stream",
     "text": [
      "1000\n",
      "********\n",
      "(256, 256)\n",
      "15\n",
      "(168, 168)\n",
      "344\n",
      "(128, 128)\n",
      "641\n"
     ]
    }
   ],
   "source": [
    "path = '../dataset/pre_data/train/CN'\n",
    "size_list = []\n",
    "for item in os.scandir(path):\n",
    "    img = Image.open(item.path).convert('L')\n",
    "    size_list.append(img.size)\n",
    "print(len(size_list))\n",
    "print('********')\n",
    "unique_size = set(size_list)\n",
    "for unique_item in unique_size:\n",
    "    print(unique_item)\n",
    "    print(size_list.count(unique_item))"
   ]
  },
  {
   "cell_type": "markdown",
   "metadata": {},
   "source": [
    "# data visualization"
   ]
  },
  {
   "cell_type": "code",
   "execution_count": 12,
   "metadata": {
    "scrolled": false
   },
   "outputs": [
    {
     "name": "stdout",
     "output_type": "stream",
     "text": [
      "(128, 128)\n",
      "<class 'PIL.Image.Image'>\n",
      "<built-in method size of Tensor object at 0x7fde66bf05a0>\n",
      "(128, 128)\n",
      "<class 'PIL.Image.Image'>\n",
      "<built-in method size of Tensor object at 0x7fde66bf0780>\n",
      "(168, 168)\n",
      "<class 'PIL.Image.Image'>\n",
      "<built-in method size of Tensor object at 0x7fde66bf0910>\n",
      "(128, 128)\n",
      "<class 'PIL.Image.Image'>\n",
      "<built-in method size of Tensor object at 0x7fde66bf0a00>\n",
      "(256, 256)\n",
      "<class 'PIL.Image.Image'>\n",
      "<built-in method size of Tensor object at 0x7fde66bf0aa0>\n",
      "(168, 168)\n",
      "<class 'PIL.Image.Image'>\n",
      "<built-in method size of Tensor object at 0x7fde66bf0af0>\n",
      "(256, 256)\n",
      "<class 'PIL.Image.Image'>\n",
      "<built-in method size of Tensor object at 0x7fde66bf0c30>\n",
      "(128, 128)\n",
      "<class 'PIL.Image.Image'>\n",
      "<built-in method size of Tensor object at 0x7fde66bf0d20>\n",
      "(128, 128)\n",
      "<class 'PIL.Image.Image'>\n",
      "<built-in method size of Tensor object at 0x7fde66bf0dc0>\n",
      "(128, 128)\n",
      "<class 'PIL.Image.Image'>\n",
      "<built-in method size of Tensor object at 0x7fde66bf0fa0>\n"
     ]
    }
   ],
   "source": [
    "import glob\n",
    "path = '../dataset/pre_data/train/AD'\n",
    "path_list = path_list = glob.glob(os.path.join(path,\"*.png\"))\n",
    "\n",
    "for item in path_list[:10]:\n",
    "    img = Image.open(item).convert('L')\n",
    "    # img = img.resize((128,128),Image.NEAREST)\n",
    "    print(img.size)\n",
    "    print(type(img))\n",
    "    from torchvision import transforms\n",
    "\n",
    "    transform = transforms.Compose([transforms.ToTensor()])\n",
    "    img = transform(img)\n",
    "    print(img.size)\n",
    "    plt.imshow(img,cmap='gray')\n",
    "    \n",
    "    plt.show()\n",
    "#     plt.hist(img)\n",
    "#     plt.show()"
   ]
  },
  {
   "cell_type": "code",
   "execution_count": null,
   "metadata": {},
   "outputs": [],
   "source": []
  }
 ],
 "metadata": {
  "kernelspec": {
   "display_name": "Python 3",
   "language": "python",
   "name": "python3"
  },
  "language_info": {
   "codemirror_mode": {
    "name": "ipython",
    "version": 3
   },
   "file_extension": ".py",
   "mimetype": "text/x-python",
   "name": "python",
   "nbconvert_exporter": "python",
   "pygments_lexer": "ipython3",
   "version": "3.7.4"
  }
 },
 "nbformat": 4,
 "nbformat_minor": 4
}
