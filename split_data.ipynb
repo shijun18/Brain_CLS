{
 "cells": [
  {
   "cell_type": "code",
   "execution_count": 2,
   "metadata": {},
   "outputs": [
    {
     "name": "stdout",
     "output_type": "stream",
     "text": [
      "32 26\n",
      "126 101\n",
      "32 26\n",
      "126 101\n",
      "32 26\n",
      "126 101\n",
      "32 26\n",
      "126 101\n",
      "30 23\n",
      "128 104\n"
     ]
    }
   ],
   "source": [
    "import pandas as pd\n",
    "import numpy as np\n",
    "from utils import remove_dir, make_dir\n",
    "import random,os\n",
    "base_path = \"/staff/shijun/torch_projects/Brain_CLS/dataset/pre_crop_data/train\"\n",
    "def load_csv():\n",
    "\n",
    "    ad_csv_df = pd.read_csv(\"./AD_divide.csv\")\n",
    "    cn_csv_df = pd.read_csv(\"./CN_divide.csv\")\n",
    "\n",
    "    ad_list = []\n",
    "    cn_list = []\n",
    "\n",
    "    for r in range(ad_csv_df.shape[0]):\n",
    "        pat_idx = ad_csv_df.iloc[r]['pic']\n",
    "        pat_idx = eval(pat_idx)\n",
    "        pat_idx = [os.path.join(base_path,\"AD/%s.png\"%p) for p in pat_idx]\n",
    "        ad_list.append(pat_idx)\n",
    "\n",
    "    for r in range(cn_csv_df.shape[0]):\n",
    "        pat_idx = cn_csv_df.iloc[r]['pic']\n",
    "        pat_idx = eval(pat_idx)\n",
    "        pat_idx = [os.path.join(base_path,\"CN/%s.png\"%p) for p in pat_idx]\n",
    "        cn_list.append(pat_idx)\n",
    "        \n",
    "    return ad_list, cn_list\n",
    "    \n",
    "def split(fold_nums,out_path):\n",
    "    remove_dir(out_path)\n",
    "    make_dir(out_path)\n",
    "    \n",
    "    ad_list, cn_list = load_csv()\n",
    "    np.savez(os.path.join(out_path,\"all_data.npz\"),ad=np.array(ad_list),cn=np.array(cn_list))\n",
    "    \n",
    "    ad_size = len(ad_list)\n",
    "    cn_size = len(cn_list)\n",
    "    \n",
    "    ad_fold_num = int(np.ceil(ad_size/fold_nums))\n",
    "    cn_fold_num = int(np.ceil(cn_size/fold_nums))\n",
    "    \n",
    "    for i in range(fold_nums):\n",
    "        test_cases = ad_list[i*ad_fold_num:(i+1)*ad_fold_num] + cn_list[i*cn_fold_num:(i+1)*cn_fold_num]\n",
    "        train_cases = ad_list[:i*ad_fold_num] + ad_list[(i+1)*ad_fold_num:] + cn_list[:i*cn_fold_num] + cn_list[(i+1)*cn_fold_num:]\n",
    "        \n",
    "        print(len(ad_list[i*ad_fold_num:(i+1)*ad_fold_num]),len(cn_list[i*cn_fold_num:(i+1)*cn_fold_num]))\n",
    "        print(len(ad_list[:i*ad_fold_num] + ad_list[(i+1)*ad_fold_num:]),len(cn_list[:i*cn_fold_num] + cn_list[(i+1)*cn_fold_num:]))\n",
    "        \n",
    "        random.shuffle(test_cases)\n",
    "        random.shuffle(train_cases)\n",
    "        \n",
    "        np.savez(os.path.join(out_path,\"fold_%d.npz\"%i),train=train_cases,test=test_cases)\n",
    "       \n",
    "split(5,\"./split_crop_output\")"
   ]
  },
  {
   "cell_type": "code",
   "execution_count": 20,
   "metadata": {},
   "outputs": [
    {
     "name": "stdout",
     "output_type": "stream",
     "text": [
      "(158,)\n",
      "(127,)\n"
     ]
    }
   ],
   "source": [
    "print(np.array(ad_list).shape)\n",
    "print(np.array(cn_list).shape)"
   ]
  },
  {
   "cell_type": "code",
   "execution_count": null,
   "metadata": {},
   "outputs": [],
   "source": []
  }
 ],
 "metadata": {
  "kernelspec": {
   "display_name": "gpu",
   "language": "python",
   "name": "gpu"
  },
  "language_info": {
   "codemirror_mode": {
    "name": "ipython",
    "version": 3
   },
   "file_extension": ".py",
   "mimetype": "text/x-python",
   "name": "python",
   "nbconvert_exporter": "python",
   "pygments_lexer": "ipython3",
   "version": "3.7.4"
  }
 },
 "nbformat": 4,
 "nbformat_minor": 2
}
